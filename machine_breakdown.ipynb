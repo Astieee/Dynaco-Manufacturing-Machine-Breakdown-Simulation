{
  "nbformat": 4,
  "nbformat_minor": 0,
  "metadata": {
    "colab": {
      "provenance": []
    },
    "kernelspec": {
      "name": "python3",
      "display_name": "Python 3"
    },
    "language_info": {
      "name": "python"
    }
  },
  "cells": [
    {
      "cell_type": "code",
      "source": [
        "from google.colab import drive\n",
        "drive.mount(\"/content/drive\")"
      ],
      "metadata": {
        "colab": {
          "base_uri": "https://localhost:8080/",
          "height": 0
        },
        "id": "6_dkA66uDtSe",
        "outputId": "840678a9-13c1-42a0-bbb8-266487ce5cec"
      },
      "execution_count": 16,
      "outputs": [
        {
          "output_type": "stream",
          "name": "stdout",
          "text": [
            "Drive already mounted at /content/drive; to attempt to forcibly remount, call drive.mount(\"/content/drive\", force_remount=True).\n"
          ]
        }
      ]
    },
    {
      "cell_type": "code",
      "source": [
        "import sys\n",
        "sys.path.insert(0, \"/content/drive/MyDrive/645\")"
      ],
      "metadata": {
        "id": "rZBBCQVgDvgy"
      },
      "execution_count": 17,
      "outputs": []
    },
    {
      "cell_type": "code",
      "source": [
        "from brooks import *"
      ],
      "metadata": {
        "id": "KF_hUdw1DwET"
      },
      "execution_count": 18,
      "outputs": []
    },
    {
      "cell_type": "code",
      "source": [
        "import numpy as np\n",
        "import pandas as pd\n",
        "import seaborn as sns\n",
        "import matplotlib.pyplot as plt"
      ],
      "metadata": {
        "id": "O6umeABwD7OF"
      },
      "execution_count": 19,
      "outputs": []
    },
    {
      "cell_type": "code",
      "source": [
        "# Step 1: Collect Data\n",
        "breakdown_data = pd.read_excel(\"/content/drive/MyDrive/645/MACHINE.xlsx\", sheet_name=\"Machine breakdown\")\n",
        "repair_time_data = pd.read_excel(\"/content/drive/MyDrive/645/MACHINE.xlsx\", sheet_name=\"Repair time\")"
      ],
      "metadata": {
        "id": "6H6bvqUyEAgm"
      },
      "execution_count": 20,
      "outputs": []
    },
    {
      "cell_type": "code",
      "source": [
        "# Step 3: For Discrete Distribution (Number of Breakdowns per Week)\n",
        "breakdown_pmf = breakdown_data.set_index('Machine Breakdowns per Week')['Probability']\n",
        "breakdown_pmf"
      ],
      "metadata": {
        "colab": {
          "base_uri": "https://localhost:8080/",
          "height": 0
        },
        "id": "_7uwJo4VEjwc",
        "outputId": "35d05281-a3a1-4759-cda6-65580957b07c"
      },
      "execution_count": 21,
      "outputs": [
        {
          "output_type": "execute_result",
          "data": {
            "text/plain": [
              "Machine Breakdowns per Week\n",
              "0    0.10\n",
              "1    0.10\n",
              "2    0.20\n",
              "3    0.25\n",
              "4    0.30\n",
              "5    0.05\n",
              "Name: Probability, dtype: float64"
            ]
          },
          "metadata": {},
          "execution_count": 21
        }
      ]
    },
    {
      "cell_type": "code",
      "source": [
        "reptime_pmf = repair_time_data.set_index('Repair Time (hours)')['Probability']\n",
        "reptime_pmf"
      ],
      "metadata": {
        "colab": {
          "base_uri": "https://localhost:8080/",
          "height": 0
        },
        "id": "otGeDhpd9Hhb",
        "outputId": "2ce6cc19-4763-4d40-867c-e93d0848685d"
      },
      "execution_count": 22,
      "outputs": [
        {
          "output_type": "execute_result",
          "data": {
            "text/plain": [
              "Repair Time (hours)\n",
              "1    0.3\n",
              "2    0.5\n",
              "3    0.2\n",
              "Name: Probability, dtype: float64"
            ]
          },
          "metadata": {},
          "execution_count": 22
        }
      ]
    },
    {
      "cell_type": "code",
      "source": [
        "n_weeks = 1000\n",
        "average_breakdowns_per_week = []\n",
        "credible_interval_breakdowns = []\n",
        "average_repair_time_per_week = []\n",
        "credible_interval_repair_time = []"
      ],
      "metadata": {
        "id": "ExiIO7VOKpWa"
      },
      "execution_count": 23,
      "outputs": []
    },
    {
      "cell_type": "code",
      "source": [
        "rg = np.random.default_rng(12345)"
      ],
      "metadata": {
        "id": "Qsvy4SyDKsIY"
      },
      "execution_count": 24,
      "outputs": []
    },
    {
      "cell_type": "code",
      "source": [
        "for _ in range(n_weeks):\n",
        "    # Simulate the number of breakdowns per week based on the PMF\n",
        "    num_breakdowns = rg.choice(breakdown_pmf.index, p=breakdown_pmf)\n",
        "\n",
        "    # Simulate repair times\n",
        "    repair_times = [rg.choice(reptime_pmf.index, p=reptime_pmf) for _ in range(num_breakdowns)]\n",
        "\n",
        "    # Calculate statistics for breakdowns\n",
        "    average_breakdowns_per_week.append(num_breakdowns)\n",
        "    credible_interval_breakdowns.append(num_breakdowns)\n",
        "\n",
        "    # Calculate statistics for repair times\n",
        "    average_repair_time_per_week.append(sum(repair_times))\n",
        "    credible_interval_repair_time.append(sum(repair_times))"
      ],
      "metadata": {
        "id": "nFosRCb-KysW"
      },
      "execution_count": 25,
      "outputs": []
    },
    {
      "cell_type": "code",
      "source": [
        "# Step 4: Calculate Statistics\n",
        "average_breakdowns = np.mean(average_breakdowns_per_week)\n",
        "credible_interval_breakdowns = np.percentile(credible_interval_breakdowns, [2.5, 97.5])\n",
        "\n",
        "average_repair_time = np.mean(average_repair_time_per_week)\n",
        "credible_interval_repair_time = np.percentile(credible_interval_repair_time, [2.5, 97.5])\n"
      ],
      "metadata": {
        "id": "phEfMdvbK6br"
      },
      "execution_count": 26,
      "outputs": []
    },
    {
      "cell_type": "code",
      "source": [
        "# Step 5: Print Results\n",
        "print(\"Average Number of Breakdowns per Week:\", average_breakdowns)\n",
        "print(\"95% Credible Interval for Breakdowns per Week:\", credible_interval_breakdowns)\n",
        "print(\"Average Weekly Repair Time (hours):\", average_repair_time)\n",
        "print(\"95% Credible Interval for Repair Time per Week (hours):\", credible_interval_repair_time)"
      ],
      "metadata": {
        "colab": {
          "base_uri": "https://localhost:8080/",
          "height": 0
        },
        "id": "6HYyQiLPK9CP",
        "outputId": "cb985d4f-8328-4808-a532-f0cd663d28b0"
      },
      "execution_count": 27,
      "outputs": [
        {
          "output_type": "stream",
          "name": "stdout",
          "text": [
            "Average Number of Breakdowns per Week: 2.724\n",
            "95% Credible Interval for Breakdowns per Week: [0. 5.]\n",
            "Average Weekly Repair Time (hours): 5.154\n",
            "95% Credible Interval for Repair Time per Week (hours): [ 0. 10.]\n"
          ]
        }
      ]
    },
    {
      "cell_type": "code",
      "source": [
        "# Step 4: For Continuous Distribution (Repair Time)\n",
        "# Plot a histogram\n",
        "sns.histplot(breakdown_data)\n",
        "plt.savefig(\"breakdown_data.png\")"
      ],
      "metadata": {
        "colab": {
          "base_uri": "https://localhost:8080/",
          "height": 430
        },
        "id": "yYGE5boIbk4B",
        "outputId": "a94c36ba-8b13-4423-9d87-a98cbaf605f7"
      },
      "execution_count": 40,
      "outputs": [
        {
          "output_type": "display_data",
          "data": {
            "text/plain": [
              "<Figure size 640x480 with 1 Axes>"
            ],
            "image/png": "[encoded data removed]"
          },
          "metadata": {}
        }
      ]
    },
    {
      "cell_type": "code",
      "source": [
        "# Step 4: For Continuous Distribution (Repair Time)\n",
        "# Plot a histogram\n",
        "sns.histplot(repair_time_data)\n",
        "plt.savefig(\"repair_time_data.png\")"
      ],
      "metadata": {
        "colab": {
          "base_uri": "https://localhost:8080/",
          "height": 430
        },
        "id": "qx9BTYVVbwS8",
        "outputId": "35849b1a-49a5-44e5-8460-59319d619ce2"
      },
      "execution_count": 41,
      "outputs": [
        {
          "output_type": "display_data",
          "data": {
            "text/plain": [
              "<Figure size 640x480 with 1 Axes>"
            ],
            "image/png": "[encoded data removed]"
          },
          "metadata": {}
        }
      ]
    }
  ]
}